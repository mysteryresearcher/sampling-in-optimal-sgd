{
 "cells": [
  {
   "cell_type": "code",
   "execution_count": 3,
   "id": "4deefebb",
   "metadata": {},
   "outputs": [],
   "source": [
    "import scipy.optimize\n",
    "import numpy as np"
   ]
  },
  {
   "cell_type": "code",
   "execution_count": 19,
   "id": "5d913ba0",
   "metadata": {},
   "outputs": [],
   "source": [
    "def get_function_permutation_bits(n, d, q):\n",
    "    def permutation_bits(p):\n",
    "        return 32 * (p + (1 - p) / n) * (1 + np.sqrt((1 - p) / p) * q)\n",
    "    return permutation_bits"
   ]
  },
  {
   "cell_type": "code",
   "execution_count": 56,
   "id": "76385b46",
   "metadata": {},
   "outputs": [],
   "source": [
    "n = 1000\n",
    "d = 1000000\n",
    "q = 1.0\n",
    "\n",
    "permutation_bits = get_function_permutation_bits(n, d, q)\n",
    "search_p = slice(1e-6, 0.1, 1e-5)\n",
    "\n",
    "p = scipy.optimize.brute(permutation_bits, (search_p,))"
   ]
  },
  {
   "cell_type": "code",
   "execution_count": 57,
   "id": "e35affb0",
   "metadata": {},
   "outputs": [
    {
     "name": "stdout",
     "output_type": "stream",
     "text": [
      "[0.000941]\n",
      "[2.08494117]\n"
     ]
    }
   ],
   "source": [
    "print(p)\n",
    "print(permutation_bits(p))"
   ]
  },
  {
   "cell_type": "code",
   "execution_count": 58,
   "id": "1ea815ba",
   "metadata": {},
   "outputs": [],
   "source": [
    "def get_function_combined_bits(n, d, q):\n",
    "    def combined_bits(x):\n",
    "        p, s = x\n",
    "        return ((32 * p + (1 - p) * (2 + s) / n) * \n",
    "                (1 + np.sqrt((1 - p) / p * (d * np.power(2, 2 - 2*s) * (1 + q**2) + q**2))))\n",
    "    return combined_bits"
   ]
  },
  {
   "cell_type": "code",
   "execution_count": 59,
   "id": "a5470cd0",
   "metadata": {},
   "outputs": [],
   "source": [
    "combined_bits = get_function_combined_bits(n, d, q)\n",
    "search_p = slice(1e-6, 0.3, 1e-5)\n",
    "search_s = slice(1, 32, 1)\n",
    "\n",
    "p, s = scipy.optimize.brute(combined_bits, (search_p, search_s))"
   ]
  },
  {
   "cell_type": "code",
   "execution_count": 60,
   "id": "ff7eaf8e",
   "metadata": {},
   "outputs": [
    {
     "name": "stdout",
     "output_type": "stream",
     "text": [
      "0.0004689729056007815 13.619248432630187\n",
      "1.4794534907261463\n"
     ]
    }
   ],
   "source": [
    "print(p, s)\n",
    "print(combined_bits((p, s)))"
   ]
  },
  {
   "cell_type": "code",
   "execution_count": null,
   "id": "c0c47c6d",
   "metadata": {},
   "outputs": [],
   "source": []
  }
 ],
 "metadata": {
  "kernelspec": {
   "display_name": "Python 3",
   "language": "python",
   "name": "python3"
  },
  "language_info": {
   "codemirror_mode": {
    "name": "ipython",
    "version": 3
   },
   "file_extension": ".py",
   "mimetype": "text/x-python",
   "name": "python",
   "nbconvert_exporter": "python",
   "pygments_lexer": "ipython3",
   "version": "3.8.8"
  }
 },
 "nbformat": 4,
 "nbformat_minor": 5
}
